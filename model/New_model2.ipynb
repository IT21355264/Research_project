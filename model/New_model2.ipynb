{
 "cells": [
  {
   "cell_type": "code",
   "execution_count": 1,
   "metadata": {},
   "outputs": [],
   "source": [
    "import numpy as np # linear algebra\n",
    "import pandas as pd # data processing, CSV file I/O (e.g. pd.read_csv)\n",
    "import os"
   ]
  },
  {
   "cell_type": "code",
   "execution_count": 2,
   "metadata": {},
   "outputs": [],
   "source": [
    "import tensorflow as tf\n",
    "from tensorflow.keras.models import Sequential\n",
    "from tensorflow.keras.layers import Input , Dense, Dropout, Activation, Flatten, Conv2D, MaxPooling2D\n",
    "import cv2 as cv\n",
    "from sklearn.preprocessing import OneHotEncoder\n",
    "from sklearn.model_selection import train_test_split\n",
    "from sklearn.preprocessing import LabelEncoder\n",
    "from tensorflow.keras.preprocessing.image import ImageDataGenerator\n",
    "\n",
    "from tensorflow.keras.callbacks import EarlyStopping, LearningRateScheduler\n",
    "from tensorflow.keras.optimizers import Adam\n",
    "from sklearn.utils import shuffle\n",
    "\n",
    "import matplotlib.pyplot as plt"
   ]
  },
  {
   "cell_type": "code",
   "execution_count": 3,
   "metadata": {},
   "outputs": [],
   "source": [
    "test_data = 'english.csv'\n",
    "df = pd.read_csv(test_data)"
   ]
  },
  {
   "cell_type": "code",
   "execution_count": 4,
   "metadata": {},
   "outputs": [
    {
     "data": {
      "text/plain": [
       "label\n",
       "0    55\n",
       "k    55\n",
       "X    55\n",
       "Y    55\n",
       "Z    55\n",
       "     ..\n",
       "P    55\n",
       "Q    55\n",
       "R    55\n",
       "S    55\n",
       "z    55\n",
       "Name: count, Length: 62, dtype: int64"
      ]
     },
     "execution_count": 4,
     "metadata": {},
     "output_type": "execute_result"
    }
   ],
   "source": [
    "df[\"label\"].value_counts()"
   ]
  },
  {
   "cell_type": "code",
   "execution_count": 5,
   "metadata": {},
   "outputs": [],
   "source": [
    "df['image'] = df['image'].str.strip().str.replace('\\\\', '/')  # Normalize paths"
   ]
  },
  {
   "cell_type": "code",
   "execution_count": 6,
   "metadata": {},
   "outputs": [
    {
     "name": "stdout",
     "output_type": "stream",
     "text": [
      "Size of the first image: (1200, 900)\n",
      "Unique image sizes: {(1200, 900)}\n"
     ]
    }
   ],
   "source": [
    "images_path = 'Img'\n",
    "\n",
    "# List to hold the dimensions of all images\n",
    "image_sizes = []\n",
    "\n",
    "for image_file in os.listdir(images_path):\n",
    "    image_path = os.path.join(images_path, image_file)\n",
    "    image = cv.imread(image_path)\n",
    "    if image is not None:\n",
    "        height, width = image.shape[:2]\n",
    "        image_sizes.append((width, height))\n",
    "\n",
    "# Print the size of the first image\n",
    "if image_sizes:\n",
    "    print(\"Size of the first image:\", image_sizes[1])\n",
    "    print(\"Unique image sizes:\", set(image_sizes))\n",
    "else:\n",
    "    print(\"No images found in the directory.\")"
   ]
  },
  {
   "cell_type": "code",
   "execution_count": 7,
   "metadata": {},
   "outputs": [],
   "source": [
    "images_path = 'Img'\n",
    "images = []\n",
    "labels = []\n",
    "\n",
    "for image_file in os.listdir(images_path):\n",
    "    image_path = os.path.join(images_path, image_file).replace('\\\\', '/')  # Normalize\n",
    "    image = cv.imread(image_path, cv.IMREAD_GRAYSCALE).astype('float32')\n",
    "    image = cv.resize(image, (64, 64)) / 255.0  # Resize and normalize\n",
    "\n",
    "    # Fetch label from CSV\n",
    "    try:\n",
    "        label = df[df['image'] == image_path].label.values[0]\n",
    "        images.append(image)\n",
    "        labels.append(label)\n",
    "    except IndexError:\n",
    "        print(f\"No label found for {image_file}\")\n",
    "\n",
    "images = np.array(images)\n",
    "labels = np.array(labels)"
   ]
  },
  {
   "cell_type": "code",
   "execution_count": 8,
   "metadata": {},
   "outputs": [
    {
     "data": {
      "text/plain": [
       "<matplotlib.image.AxesImage at 0x265580aa450>"
      ]
     },
     "execution_count": 8,
     "metadata": {},
     "output_type": "execute_result"
    },
    {
     "data": {
      "image/png": "[encoded data removed]",
      "text/plain": [
       "<Figure size 640x480 with 1 Axes>"
      ]
     },
     "metadata": {},
     "output_type": "display_data"
    }
   ],
   "source": [
    "plt.gray()\n",
    "plt.imshow(images[100])"
   ]
  },
  {
   "cell_type": "code",
   "execution_count": 9,
   "metadata": {},
   "outputs": [
    {
     "name": "stdout",
     "output_type": "stream",
     "text": [
      "Number of images: 3410\n",
      "Shape of each image: (64, 64)\n",
      "Unique labels: ['0' '1' '2' '3' '4' '5' '6' '7' '8' '9' 'A' 'B' 'C' 'D' 'E' 'F' 'G' 'H'\n",
      " 'I' 'J' 'K' 'L' 'M' 'N' 'O' 'P' 'Q' 'R' 'S' 'T' 'U' 'V' 'W' 'X' 'Y' 'Z'\n",
      " 'a' 'b' 'c' 'd' 'e' 'f' 'g' 'h' 'i' 'j' 'k' 'l' 'm' 'n' 'o' 'p' 'q' 'r'\n",
      " 's' 't' 'u' 'v' 'w' 'x' 'y' 'z']\n"
     ]
    }
   ],
   "source": [
    "print(\"Number of images:\", len(images))\n",
    "print(\"Shape of each image:\", images.shape[1:])\n",
    "print(\"Unique labels:\", np.unique(labels))"
   ]
  },
  {
   "cell_type": "code",
   "execution_count": 10,
   "metadata": {},
   "outputs": [],
   "source": [
    "# One hot encode the labels\n",
    "\n",
    "encoder = OneHotEncoder(sparse_output=False)\n",
    "labels = encoder.fit_transform(labels.reshape(-1, 1))"
   ]
  },
  {
   "cell_type": "code",
   "execution_count": 11,
   "metadata": {},
   "outputs": [],
   "source": [
    "decoder = [str(i) for i in range(10)] + [chr(i) for i in range(65, 91)] + [chr(i) for i in range(97, 123)]"
   ]
  },
  {
   "cell_type": "code",
   "execution_count": 12,
   "metadata": {},
   "outputs": [],
   "source": [
    "images, labels = shuffle(images, labels, random_state=0)"
   ]
  },
  {
   "cell_type": "code",
   "execution_count": 13,
   "metadata": {},
   "outputs": [],
   "source": [
    "from tensorflow.keras.callbacks import LearningRateScheduler\n",
    "import numpy as np\n",
    "\n",
    "# Define an exponential decay learning rate schedule function\n",
    "def exponential_decay(epoch, lr):\n",
    "    initial_lr = 0.001\n",
    "    k = 0.1\n",
    "    decay_rate = k ** (epoch / 10)\n",
    "    return initial_lr * decay_rate"
   ]
  },
  {
   "cell_type": "code",
   "execution_count": 14,
   "metadata": {},
   "outputs": [],
   "source": [
    "X_train, X_temp, Y_train, Y_temp = train_test_split(images, labels, test_size=0.3, random_state=0)\n",
    "X_val, X_test, Y_val, Y_test = train_test_split(X_temp, Y_temp, test_size=0.5, random_state=0)"
   ]
  },
  {
   "cell_type": "code",
   "execution_count": 15,
   "metadata": {},
   "outputs": [],
   "source": [
    "datagen = ImageDataGenerator(\n",
    "    rotation_range=15,    \n",
    "    width_shift_range=0.1,  \n",
    "    height_shift_range=0.2,\n",
    "    zoom_range=0.2, \n",
    "    shear_range=0.2,               \n",
    "    fill_mode='nearest'\n",
    ")"
   ]
  },
  {
   "cell_type": "code",
   "execution_count": 16,
   "metadata": {},
   "outputs": [
    {
     "name": "stdout",
     "output_type": "stream",
     "text": [
      "Augmented images shape: (11935, 64, 64, 1)\n",
      "Augmented labels shape: (11935, 62)\n"
     ]
    }
   ],
   "source": [
    "# Initialize lists to hold augmented images and labels\n",
    "augmented_arr_X = []\n",
    "augmented_arr_Y = []\n",
    "number_of_augmentation = 5\n",
    "\n",
    "# Iterate over each image in X_train\n",
    "for i in range(len(X_train)):\n",
    "    # Ensure the image has the correct shape (height, width, channels)\n",
    "    image = X_train[i]\n",
    "    if image.ndim == 2:\n",
    "        image = np.expand_dims(image, axis=-1)  # Convert (height, width) to (height, width, channels)\n",
    "    \n",
    "    # Expand dimensions to include batch size\n",
    "    image_expanded = np.expand_dims(image, axis=0)  # Shape: (1, height, width, channels)\n",
    "    \n",
    "    # Create iterator for augmented images\n",
    "    aug_iter = datagen.flow(image_expanded, batch_size=1)\n",
    "    \n",
    "    # Generate augmented images\n",
    "    augmented_images = [next(aug_iter)[0] for _ in range(number_of_augmentation)]\n",
    "    \n",
    "    # Extend the list with the new augmented images and corresponding labels\n",
    "    augmented_arr_X.extend(augmented_images)\n",
    "    augmented_arr_Y.extend([Y_train[i]] * number_of_augmentation)\n",
    "\n",
    "# Convert lists to numpy arrays\n",
    "augmented_arr_X = np.array(augmented_arr_X)\n",
    "augmented_arr_Y = np.array(augmented_arr_Y)\n",
    "\n",
    "print(\"Augmented images shape:\", augmented_arr_X.shape)\n",
    "print(\"Augmented labels shape:\", augmented_arr_Y.shape)"
   ]
  },
  {
   "cell_type": "code",
   "execution_count": 17,
   "metadata": {},
   "outputs": [],
   "source": [
    "X_train = np.array(augmented_arr_X)\n",
    "Y_train = np.array(augmented_arr_Y)"
   ]
  },
  {
   "cell_type": "code",
   "execution_count": 18,
   "metadata": {},
   "outputs": [],
   "source": [
    "X_train, Y_train = shuffle(X_train, Y_train, random_state=0)"
   ]
  },
  {
   "cell_type": "code",
   "execution_count": 19,
   "metadata": {},
   "outputs": [
    {
     "data": {
      "image/png": "[encoded data removed]",
      "text/plain": [
       "<Figure size 1200x600 with 9 Axes>"
      ]
     },
     "metadata": {},
     "output_type": "display_data"
    }
   ],
   "source": [
    "# Plot 9 random images for visualisation\n",
    "\n",
    "def display_images(rows, cols, images, labels, decoder):\n",
    "    _, axes = plt.subplots(nrows = 3, ncols = 3, figsize=(12,6))\n",
    "\n",
    "    for i, ax in enumerate(axes.flatten()):\n",
    "        ax.imshow(images[i], cmap='gray')\n",
    "        ax.set_xticks([])\n",
    "        ax.set_yticks([])\n",
    "        ax.set_title(f\"Label: {decoder[np.where(labels[i]==1)[0][0]]}\")\n",
    "        \n",
    "display_images(3, 3, images, labels, decoder)"
   ]
  },
  {
   "cell_type": "code",
   "execution_count": 20,
   "metadata": {},
   "outputs": [
    {
     "name": "stdout",
     "output_type": "stream",
     "text": [
      "Number of classes: 2\n"
     ]
    }
   ],
   "source": [
    "num_classes = len(np.unique(labels))  # Check how many unique labels you have\n",
    "print(\"Number of classes:\", num_classes)"
   ]
  },
  {
   "cell_type": "code",
   "execution_count": 21,
   "metadata": {},
   "outputs": [],
   "source": [
    "# Define model\n",
    "\n",
    "model = Sequential([\n",
    "    Input(shape=(64, 64, 1)),\n",
    "    \n",
    "    Conv2D(512, (5, 5), activation='relu'),\n",
    "    \n",
    "    MaxPooling2D(pool_size=(2, 2)), \n",
    "    \n",
    "    Conv2D(256, (3, 3), activation='relu'),\n",
    "    MaxPooling2D(pool_size=(2, 2)), \n",
    "    \n",
    "    Conv2D(256, (3, 3), activation='relu'),\n",
    "    MaxPooling2D(pool_size=(2, 2)), \n",
    "    \n",
    "    Flatten(),\n",
    "    \n",
    "    Dense(512, activation='relu'),\n",
    "    Dropout(0.1),\n",
    "    \n",
    "    Dense(1024, activation='relu'),\n",
    "    \n",
    "    Dense(512, activation='relu'),\n",
    "    Dropout(0.1),\n",
    "    \n",
    "    Dense(256, activation='sigmoid'),\n",
    "    \n",
    "    Dense(62, activation='softmax')\n",
    "])"
   ]
  },
  {
   "cell_type": "code",
   "execution_count": 22,
   "metadata": {},
   "outputs": [
    {
     "name": "stdout",
     "output_type": "stream",
     "text": [
      "Model: \"sequential\"\n",
      "_________________________________________________________________\n",
      " Layer (type)                Output Shape              Param #   \n",
      "=================================================================\n",
      " conv2d (Conv2D)             (None, 60, 60, 512)       13312     \n",
      "                                                                 \n",
      " max_pooling2d (MaxPooling2  (None, 30, 30, 512)       0         \n",
      " D)                                                              \n",
      "                                                                 \n",
      " conv2d_1 (Conv2D)           (None, 28, 28, 256)       1179904   \n",
      "                                                                 \n",
      " max_pooling2d_1 (MaxPoolin  (None, 14, 14, 256)       0         \n",
      " g2D)                                                            \n",
      "                                                                 \n",
      " conv2d_2 (Conv2D)           (None, 12, 12, 256)       590080    \n",
      "                                                                 \n",
      " max_pooling2d_2 (MaxPoolin  (None, 6, 6, 256)         0         \n",
      " g2D)                                                            \n",
      "                                                                 \n",
      " flatten (Flatten)           (None, 9216)              0         \n",
      "                                                                 \n",
      " dense (Dense)               (None, 512)               4719104   \n",
      "                                                                 \n",
      " dropout (Dropout)           (None, 512)               0         \n",
      "                                                                 \n",
      " dense_1 (Dense)             (None, 1024)              525312    \n",
      "                                                                 \n",
      " dense_2 (Dense)             (None, 512)               524800    \n",
      "                                                                 \n",
      " dropout_1 (Dropout)         (None, 512)               0         \n",
      "                                                                 \n",
      " dense_3 (Dense)             (None, 256)               131328    \n",
      "                                                                 \n",
      " dense_4 (Dense)             (None, 62)                15934     \n",
      "                                                                 \n",
      "=================================================================\n",
      "Total params: 7699774 (29.37 MB)\n",
      "Trainable params: 7699774 (29.37 MB)\n",
      "Non-trainable params: 0 (0.00 Byte)\n",
      "_________________________________________________________________\n"
     ]
    }
   ],
   "source": [
    "model.summary()"
   ]
  },
  {
   "cell_type": "code",
   "execution_count": 23,
   "metadata": {},
   "outputs": [
    {
     "name": "stdout",
     "output_type": "stream",
     "text": [
      "Shape of X_train: (11935, 64, 64, 1)\n",
      "Shape of X_val: (511, 64, 64)\n",
      "Shape of X_test: (512, 64, 64)\n"
     ]
    }
   ],
   "source": [
    "print(\"Shape of X_train:\", X_train.shape)\n",
    "print(\"Shape of X_val:\", X_val.shape)\n",
    "print(\"Shape of X_test:\", X_test.shape)\n"
   ]
  },
  {
   "cell_type": "code",
   "execution_count": 24,
   "metadata": {},
   "outputs": [
    {
     "name": "stdout",
     "output_type": "stream",
     "text": [
      "WARNING:tensorflow:Mixed precision compatibility check (mixed_float16): WARNING\n",
      "The dtype policy mixed_float16 may run slowly because this machine does not have a GPU. Only Nvidia GPUs with compute capability of at least 7.0 run quickly with mixed_float16.\n",
      "If you will use compatible GPU(s) not attached to this host, e.g. by running a multi-worker model, you can ignore this warning. This message will only be logged once\n",
      "Epoch 1/20\n",
      "373/373 [==============================] - 1000s 3s/step - loss: 4.1396 - accuracy: 0.0201 - val_loss: 3.9136 - val_accuracy: 0.0646 - lr: 1.0000e-04\n",
      "Epoch 2/20\n",
      "373/373 [==============================] - 1281s 3s/step - loss: 3.5422 - accuracy: 0.1023 - val_loss: 3.0830 - val_accuracy: 0.1820 - lr: 1.0000e-04\n",
      "Epoch 3/20\n",
      "373/373 [==============================] - 570s 2s/step - loss: 3.1668 - accuracy: 0.1651 - val_loss: 2.7891 - val_accuracy: 0.2466 - lr: 1.0000e-04\n",
      "Epoch 4/20\n",
      "373/373 [==============================] - 566s 2s/step - loss: 2.7336 - accuracy: 0.2728 - val_loss: 2.2644 - val_accuracy: 0.4325 - lr: 1.0000e-04\n",
      "Epoch 5/20\n",
      "373/373 [==============================] - 661s 2s/step - loss: 2.3049 - accuracy: 0.3961 - val_loss: 1.8767 - val_accuracy: 0.5010 - lr: 1.0000e-04\n",
      "Epoch 6/20\n",
      "373/373 [==============================] - 934s 3s/step - loss: 1.9088 - accuracy: 0.5087 - val_loss: 1.5417 - val_accuracy: 0.5675 - lr: 1.0000e-04\n",
      "Epoch 7/20\n",
      "373/373 [==============================] - 590s 2s/step - loss: 1.5643 - accuracy: 0.5932 - val_loss: 1.2208 - val_accuracy: 0.6791 - lr: 1.0000e-04\n",
      "Epoch 8/20\n",
      "373/373 [==============================] - 648s 2s/step - loss: 1.2933 - accuracy: 0.6561 - val_loss: 1.0190 - val_accuracy: 0.7143 - lr: 1.0000e-04\n",
      "Epoch 9/20\n",
      "373/373 [==============================] - 569s 2s/step - loss: 1.0907 - accuracy: 0.7054 - val_loss: 0.8932 - val_accuracy: 0.7476 - lr: 1.0000e-04\n",
      "Epoch 10/20\n",
      "373/373 [==============================] - 569s 2s/step - loss: 0.9301 - accuracy: 0.7449 - val_loss: 0.8645 - val_accuracy: 0.7358 - lr: 1.0000e-04\n",
      "Epoch 11/20\n",
      "373/373 [==============================] - 574s 2s/step - loss: 0.8028 - accuracy: 0.7797 - val_loss: 0.7440 - val_accuracy: 0.7652 - lr: 9.0484e-05\n",
      "Epoch 12/20\n",
      "373/373 [==============================] - 571s 2s/step - loss: 0.6852 - accuracy: 0.8122 - val_loss: 0.7159 - val_accuracy: 0.7710 - lr: 8.1873e-05\n",
      "Epoch 13/20\n",
      "373/373 [==============================] - 572s 2s/step - loss: 0.5973 - accuracy: 0.8339 - val_loss: 0.6858 - val_accuracy: 0.7828 - lr: 7.4082e-05\n",
      "Epoch 14/20\n",
      "373/373 [==============================] - 575s 2s/step - loss: 0.5314 - accuracy: 0.8538 - val_loss: 0.6787 - val_accuracy: 0.7691 - lr: 6.7032e-05\n",
      "Epoch 15/20\n",
      "373/373 [==============================] - 571s 2s/step - loss: 0.4680 - accuracy: 0.8726 - val_loss: 0.6439 - val_accuracy: 0.7906 - lr: 6.0653e-05\n",
      "Epoch 16/20\n",
      "373/373 [==============================] - 571s 2s/step - loss: 0.4130 - accuracy: 0.8887 - val_loss: 0.6181 - val_accuracy: 0.7965 - lr: 5.4881e-05\n",
      "Epoch 17/20\n",
      "373/373 [==============================] - 579s 2s/step - loss: 0.3745 - accuracy: 0.9016 - val_loss: 0.6052 - val_accuracy: 0.7945 - lr: 4.9659e-05\n",
      "Epoch 18/20\n",
      "373/373 [==============================] - 571s 2s/step - loss: 0.3412 - accuracy: 0.9122 - val_loss: 0.5896 - val_accuracy: 0.8082 - lr: 4.4933e-05\n",
      "Epoch 19/20\n",
      "373/373 [==============================] - 578s 2s/step - loss: 0.3098 - accuracy: 0.9221 - val_loss: 0.6025 - val_accuracy: 0.8082 - lr: 4.0657e-05\n",
      "Epoch 20/20\n",
      "373/373 [==============================] - 570s 2s/step - loss: 0.2777 - accuracy: 0.9305 - val_loss: 0.5847 - val_accuracy: 0.8082 - lr: 3.6788e-05\n"
     ]
    }
   ],
   "source": [
    "import tensorflow as tf\n",
    "\n",
    "from tensorflow.keras.mixed_precision import global_policy, set_global_policy, Policy\n",
    "\n",
    "# Create a mixed precision policy\n",
    "policy = Policy('mixed_float16')\n",
    "set_global_policy(policy)\n",
    "\n",
    "def scheduler(epoch, lr):\n",
    "    if epoch < 10:\n",
    "        return lr\n",
    "    else:\n",
    "        return float(lr * tf.math.exp(-0.1))\n",
    "\n",
    "\n",
    "lr_scheduler = LearningRateScheduler(scheduler)\n",
    "\n",
    "# Define early stopping\n",
    "early_stopping = EarlyStopping(monitor='val_loss', patience=5, restore_best_weights=True)\n",
    "\n",
    "# Compile the model\n",
    "model.compile(optimizer=Adam(learning_rate=1e-4),  # Use a lower learning rate for stability\n",
    "              loss='categorical_crossentropy',\n",
    "              metrics=['accuracy'])\n",
    "\n",
    "# Train the model with the callbacks\n",
    "history = model.fit(\n",
    "    X_train, Y_train,\n",
    "    epochs=20, \n",
    "    batch_size=32,  \n",
    "    validation_data=(X_val, Y_val),\n",
    "    callbacks=[lr_scheduler, early_stopping]  # Add both callbacks here\n",
    ")"
   ]
  },
  {
   "cell_type": "code",
   "execution_count": 25,
   "metadata": {},
   "outputs": [
    {
     "name": "stdout",
     "output_type": "stream",
     "text": [
      "16/16 [==============================] - 7s 408ms/step - loss: 0.5847 - accuracy: 0.8082\n",
      "Validation Loss: 0.5847249031066895\n",
      "Validation Accuracy: 0.8082191944122314\n"
     ]
    }
   ],
   "source": [
    "# Evaluate the model\n",
    "loss, accuracy = model.evaluate(X_val, Y_val)\n",
    "print(f'Validation Loss: {loss}')\n",
    "print(f'Validation Accuracy: {accuracy}')"
   ]
  },
  {
   "cell_type": "code",
   "execution_count": 26,
   "metadata": {},
   "outputs": [
    {
     "data": {
      "text/plain": [
       "['label_encoder_2.pkl']"
      ]
     },
     "execution_count": 26,
     "metadata": {},
     "output_type": "execute_result"
    }
   ],
   "source": [
    "import joblib\n",
    "\n",
    "# Save the label encoder\n",
    "joblib.dump(encoder, 'label_encoder_2.pkl')"
   ]
  },
  {
   "cell_type": "code",
   "execution_count": 27,
   "metadata": {},
   "outputs": [
    {
     "data": {
      "image/png": "[encoded data removed]",
      "text/plain": [
       "<Figure size 1200x500 with 2 Axes>"
      ]
     },
     "metadata": {},
     "output_type": "display_data"
    }
   ],
   "source": [
    "import matplotlib.pyplot as plt\n",
    "\n",
    "# Plot training & validation accuracy and loss\n",
    "plt.figure(figsize=(12, 5))\n",
    "\n",
    "# Accuracy plot\n",
    "plt.subplot(1, 2, 1)\n",
    "plt.plot(history.history['accuracy'], label='Train Accuracy')\n",
    "plt.plot(history.history['val_accuracy'], label='Validation Accuracy')\n",
    "plt.xlabel('Epochs')\n",
    "plt.ylabel('Accuracy')\n",
    "plt.legend()\n",
    "plt.title('Training vs Validation Accuracy')\n",
    "\n",
    "# Loss plot\n",
    "plt.subplot(1, 2, 2)\n",
    "plt.plot(history.history['loss'], label='Train Loss')\n",
    "plt.plot(history.history['val_loss'], label='Validation Loss')\n",
    "plt.xlabel('Epochs')\n",
    "plt.ylabel('Loss')\n",
    "plt.legend()\n",
    "plt.title('Training vs Validation Loss')\n",
    "\n",
    "plt.show()"
   ]
  },
  {
   "cell_type": "code",
   "execution_count": 28,
   "metadata": {},
   "outputs": [
    {
     "name": "stderr",
     "output_type": "stream",
     "text": [
      "C:\\Users\\Wijesingha\\AppData\\Roaming\\Python\\Python311\\site-packages\\keras\\src\\engine\\training.py:3079: UserWarning: You are saving your model as an HDF5 file via `model.save()`. This file format is considered legacy. We recommend using instead the native Keras format, e.g. `model.save('my_model.keras')`.\n",
      "  saving_api.save_model(\n"
     ]
    }
   ],
   "source": [
    "model.save(\"recognition_model_2.h5\")"
   ]
  },
  {
   "cell_type": "code",
   "execution_count": 29,
   "metadata": {},
   "outputs": [
    {
     "name": "stdout",
     "output_type": "stream",
     "text": [
      "WARNING:tensorflow:Error in loading the saved optimizer state. As a result, your model is starting with a freshly initialized optimizer.\n",
      "1/1 [==============================] - 0s 161ms/step\n",
      "Predicted Label: ['z']\n"
     ]
    }
   ],
   "source": [
    "# Load the trained model\n",
    "model = tf.keras.models.load_model('recognition_model_2.h5')\n",
    "\n",
    "# Load the label encoder\n",
    "encoder = joblib.load('label_encoder_2.pkl')\n",
    "\n",
    "def predict_character(image_path):\n",
    "    # Load and preprocess the image\n",
    "    image = cv.imread(image_path, cv.IMREAD_GRAYSCALE)\n",
    "    image = cv.resize(image, (64, 64)) / 255.0\n",
    "    image = np.expand_dims(image, axis=-1)  # Add channel dimension\n",
    "    image = np.expand_dims(image, axis=0)   # Add batch dimension\n",
    "\n",
    "    # Predict\n",
    "    prediction = model.predict(image)\n",
    "    predicted_label = np.argmax(prediction)\n",
    "\n",
    "    # Decode the label (fix for expected shape)\n",
    "    one_hot = np.zeros((1, 62))\n",
    "    one_hot[0, predicted_label] = 1\n",
    "    label = encoder.inverse_transform(one_hot)[0]\n",
    "\n",
    "    print(f\"Predicted Label: {label}\")\n",
    "\n",
    "# Example usage\n",
    "image_path = 'Img/img062-051.png'\n",
    "predict_character(image_path)\n"
   ]
  }
 ],
 "metadata": {
  "kernelspec": {
   "display_name": "Python 3",
   "language": "python",
   "name": "python3"
  },
  "language_info": {
   "codemirror_mode": {
    "name": "ipython",
    "version": 3
   },
   "file_extension": ".py",
   "mimetype": "text/x-python",
   "name": "python",
   "nbconvert_exporter": "python",
   "pygments_lexer": "ipython3",
   "version": "3.11.9"
  }
 },
 "nbformat": 4,
 "nbformat_minor": 2
}
